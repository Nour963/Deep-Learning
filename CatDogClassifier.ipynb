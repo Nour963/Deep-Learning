{
 "cells": [
  {
   "cell_type": "code",
   "execution_count": 1,
   "metadata": {},
   "outputs": [
    {
     "name": "stderr",
     "output_type": "stream",
     "text": [
      "Using TensorFlow backend.\n"
     ]
    }
   ],
   "source": [
    "from keras.models import Sequential"
   ]
  },
  {
   "cell_type": "code",
   "execution_count": 2,
   "metadata": {},
   "outputs": [],
   "source": [
    "from keras.layers import Dense,Flatten,Conv2D,MaxPooling2D\n",
    "import cv2"
   ]
  },
  {
   "cell_type": "code",
   "execution_count": 3,
   "metadata": {},
   "outputs": [],
   "source": [
    "model = Sequential()"
   ]
  },
  {
   "cell_type": "code",
   "execution_count": 4,
   "metadata": {},
   "outputs": [],
   "source": [
    "#first layer\n",
    "model.add(Conv2D(32,(3,3), input_shape=(50,50,3),activation='relu')) #convolution\n",
    "model.add(MaxPooling2D(pool_size=(2,2))) #pooling\n",
    "\n",
    "#second layer\n",
    "model.add(Conv2D(32,(3,3),activation='relu')) #convolution\n",
    "model.add(MaxPooling2D(pool_size=(2,2))) #pooling\n",
    "\n",
    "model.add(Flatten())\n",
    "model.add(Dense(units=128,activation='relu'))\n",
    "model.add(Dense(1,activation='sigmoid'))\n",
    "\n",
    "model.compile(optimizer='adam', loss='binary_crossentropy', metrics=['accuracy'])"
   ]
  },
  {
   "cell_type": "code",
   "execution_count": 5,
   "metadata": {},
   "outputs": [],
   "source": [
    "from keras.preprocessing.image import ImageDataGenerator"
   ]
  },
  {
   "cell_type": "code",
   "execution_count": 6,
   "metadata": {},
   "outputs": [],
   "source": [
    "train_data = ImageDataGenerator(rescale=1./255,shear_range=0.2,zoom_range=0.2,horizontal_flip=True)\n",
    "train_data = ImageDataGenerator(rescale=1./255)"
   ]
  },
  {
   "cell_type": "code",
   "execution_count": null,
   "metadata": {},
   "outputs": [
    {
     "name": "stdout",
     "output_type": "stream",
     "text": [
      "Found 25000 images belonging to 2 classes.\n",
      "Epoch 1/25\n",
      "8000/8000 [==============================] - 1233s 154ms/step - loss: 0.3058 - acc: 0.8595\n",
      "Epoch 2/25\n",
      "8000/8000 [==============================] - 826s 103ms/step - loss: 0.0340 - acc: 0.9887\n",
      "Epoch 3/25\n",
      "8000/8000 [==============================] - 825s 103ms/step - loss: 0.0188 - acc: 0.9937\n",
      "Epoch 4/25\n",
      "8000/8000 [==============================] - 841s 105ms/step - loss: 0.0152 - acc: 0.9951\n",
      "Epoch 5/25\n",
      "5791/8000 [====================>.........] - ETA: 4:01 - loss: 0.0138 - acc: 0.9956"
     ]
    }
   ],
   "source": [
    "train_set = train_data.flow_from_directory(directory='/home/nour/Documents/catdog/train',\n",
    "    target_size=(50, 50),\n",
    "    batch_size=32,\n",
    "    class_mode=\"binary\")\n",
    "\n",
    "model.fit_generator(train_set,steps_per_epoch=8000, epochs=25,validation_steps=2000)\n",
    "\n",
    "\n",
    "#Save the model \n",
    "model_json = model.to_json()\n",
    "with open(\"bigcatdog.json\", \"w\") as json_file:\n",
    "    json_file.write(model_json)\n",
    "# serialize weights to HDF5\n",
    "model.save_weights(\"bigcatdogweight.h5\")\n",
    "print(\"Saved model to disk\")\n",
    "\n"
   ]
  },
  {
   "cell_type": "code",
   "execution_count": null,
   "metadata": {},
   "outputs": [],
   "source": []
  }
 ],
 "metadata": {
  "kernelspec": {
   "display_name": "Python 3",
   "language": "python",
   "name": "python3"
  },
  "language_info": {
   "codemirror_mode": {
    "name": "ipython",
    "version": 3
   },
   "file_extension": ".py",
   "mimetype": "text/x-python",
   "name": "python",
   "nbconvert_exporter": "python",
   "pygments_lexer": "ipython3",
   "version": "3.6.5"
  }
 },
 "nbformat": 4,
 "nbformat_minor": 2
}
